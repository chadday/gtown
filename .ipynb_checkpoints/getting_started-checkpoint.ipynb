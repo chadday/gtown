{
 "cells": [
  {
   "cell_type": "markdown",
   "metadata": {},
   "source": [
    "# Introduction to Python\n",
    "\n",
    "This is a modified version of the original course notebook, which used Python2.7. I'm also thankful for the input of my friend and colleague, Anthony Debarros, and for his generosity in allowing me to incorporate some of his training examples in this tutorial.\n",
    "\n",
    "## Basic maneuvering: Import statements\n",
    "\n",
    "To use a Python library in a script, we have to import it. You do that using what are known as import statements. Below we'll import the csv module, which lets us read and write csvs"
   ]
  },
  {
   "cell_type": "code",
   "execution_count": 1,
   "metadata": {},
   "outputs": [],
   "source": [
    "import csv"
   ]
  },
  {
   "cell_type": "markdown",
   "metadata": {},
   "source": [
    "Now we'll import the BeautifulSoup module"
   ]
  },
  {
   "cell_type": "code",
   "execution_count": 2,
   "metadata": {},
   "outputs": [],
   "source": [
    "from bs4 import BeautifulSoup"
   ]
  },
  {
   "cell_type": "markdown",
   "metadata": {},
   "source": [
    "And we'll import the requests module"
   ]
  },
  {
   "cell_type": "code",
   "execution_count": 3,
   "metadata": {},
   "outputs": [],
   "source": [
    "import requests"
   ]
  },
  {
   "cell_type": "markdown",
   "metadata": {},
   "source": [
    "We'll use these later when we're writing our webscraper. For now, let's see which version of Python we're running"
   ]
  },
  {
   "cell_type": "code",
   "execution_count": 4,
   "metadata": {},
   "outputs": [
    {
     "name": "stdout",
     "output_type": "stream",
     "text": [
      "3.6.8 (v3.6.8:3c6b436a57, Dec 24 2018, 02:04:31) \n",
      "[GCC 4.2.1 Compatible Apple LLVM 6.0 (clang-600.0.57)]\n"
     ]
    }
   ],
   "source": [
    "import sys\n",
    "print(sys.version)"
   ]
  },
  {
   "cell_type": "markdown",
   "metadata": {},
   "source": [
    "# Notes\n",
    "\n",
    "Notes are written sections in your code that are not executed by the Python interpreter. The most comment type of note begins with a `#`. This \"notes out\" the text to the right of the symbol. You can also use ```'''``` which allow for multiline notes or what are called [docstrings](https://docs.python.org/3/tutorial/controlflow.html#documentation-strings). While we'd like our code to be clean enough for people to read without too many notes, that's not always the case. Noting your code helps the future you remember what you did and others who are working with your code. "
   ]
  },
  {
   "cell_type": "code",
   "execution_count": null,
   "metadata": {},
   "outputs": [],
   "source": [
    "# This is a note\n",
    "\n",
    "'''\n",
    "This is a docstring.\n",
    "'''"
   ]
  },
  {
   "cell_type": "markdown",
   "metadata": {},
   "source": [
    "# Printing\n",
    "\n",
    "The `print()` statement outputs text to your Python interpreter, whether the terminal or here in the notebook."
   ]
  },
  {
   "cell_type": "code",
   "execution_count": null,
   "metadata": {},
   "outputs": [],
   "source": [
    "print('Hello, world!')"
   ]
  },
  {
   "cell_type": "markdown",
   "metadata": {},
   "source": [
    "# Data types\n",
    "\n",
    "Just like in SQL, Python works with several different types of data such as integers, strings (text), dates, times and decimals (also known as floats). Let's take a look at these using Python's built in function `type()`, which tells us what kind of data we're working with."
   ]
  },
  {
   "cell_type": "code",
   "execution_count": 5,
   "metadata": {},
   "outputs": [
    {
     "data": {
      "text/plain": [
       "int"
      ]
     },
     "execution_count": 5,
     "metadata": {},
     "output_type": "execute_result"
    }
   ],
   "source": [
    "type(10)"
   ]
  },
  {
   "cell_type": "code",
   "execution_count": 6,
   "metadata": {},
   "outputs": [
    {
     "data": {
      "text/plain": [
       "str"
      ]
     },
     "execution_count": 6,
     "metadata": {},
     "output_type": "execute_result"
    }
   ],
   "source": [
    "type('Hello, world!') ## Notice the single quotes."
   ]
  },
  {
   "cell_type": "code",
   "execution_count": 7,
   "metadata": {},
   "outputs": [
    {
     "data": {
      "text/plain": [
       "float"
      ]
     },
     "execution_count": 7,
     "metadata": {},
     "output_type": "execute_result"
    }
   ],
   "source": [
    "type(3.14)"
   ]
  },
  {
   "cell_type": "code",
   "execution_count": 8,
   "metadata": {},
   "outputs": [
    {
     "data": {
      "text/plain": [
       "str"
      ]
     },
     "execution_count": 8,
     "metadata": {},
     "output_type": "execute_result"
    }
   ],
   "source": [
    "type('2020-01-20') ## Notice something off here?"
   ]
  },
  {
   "cell_type": "markdown",
   "metadata": {},
   "source": [
    "To work with dates and times, we need to use Python built in datetime module."
   ]
  },
  {
   "cell_type": "code",
   "execution_count": 14,
   "metadata": {},
   "outputs": [
    {
     "data": {
      "text/plain": [
       "datetime.date"
      ]
     },
     "execution_count": 14,
     "metadata": {},
     "output_type": "execute_result"
    }
   ],
   "source": [
    "import datetime\n",
    "\n",
    "d = datetime.date(2019, 7, 11)\n",
    "type(d)"
   ]
  },
  {
   "cell_type": "markdown",
   "metadata": {},
   "source": [
    "# Variables\n",
    "Variables hold data of several types, including strings, numbers and objects such as lists. To store a value in a variable, we use the `=` operator. Python is a \"dynamically typed\" language, meaning that you don't need to declare a variable's type before assigning a value to it. \n",
    "\n",
    "Just like we went over in SQL, variables stand in for values and help us as a shorthand but also as a way to build functions and code that isn't reliant on specific values but rather categories or types of values. \n",
    "\n",
    "For example, we can use Python to calculate the sum such as below."
   ]
  },
  {
   "cell_type": "code",
   "execution_count": null,
   "metadata": {},
   "outputs": [],
   "source": [
    "10 + 6"
   ]
  },
  {
   "cell_type": "markdown",
   "metadata": {},
   "source": [
    "Or we can use variables, which give us more flexibility."
   ]
  },
  {
   "cell_type": "code",
   "execution_count": 16,
   "metadata": {},
   "outputs": [],
   "source": [
    "x = 10\n",
    "\n",
    "y = 6"
   ]
  },
  {
   "cell_type": "code",
   "execution_count": null,
   "metadata": {},
   "outputs": [],
   "source": [
    "print(x + y) # Addition of variables\n",
    "print(y + 12) # Addition of other integers\n",
    "print(x / y) # Division\n",
    "print(y ** 2) # Multiplication"
   ]
  },
  {
   "cell_type": "markdown",
   "metadata": {},
   "source": [
    "Important: Notice that the above prints a result but it doesn't change the underlying variables. For example:"
   ]
  },
  {
   "cell_type": "code",
   "execution_count": null,
   "metadata": {},
   "outputs": [],
   "source": [
    "print(x) ## Still equals 10 despite the addition and other math done above"
   ]
  },
  {
   "cell_type": "markdown",
   "metadata": {},
   "source": [
    "Why is this? Because to change a variable we would need to define it, like we did originally with our `x` and `y`. "
   ]
  },
  {
   "cell_type": "code",
   "execution_count": null,
   "metadata": {},
   "outputs": [],
   "source": [
    "x = x + y\n",
    "print(x) ## Now x = 16"
   ]
  },
  {
   "cell_type": "markdown",
   "metadata": {},
   "source": [
    "We can also assign the result to a new variable, so we maintain our old ones. "
   ]
  },
  {
   "cell_type": "code",
   "execution_count": 20,
   "metadata": {},
   "outputs": [
    {
     "name": "stdout",
     "output_type": "stream",
     "text": [
      "16\n"
     ]
    }
   ],
   "source": [
    "x = 10 ## Sets x back to our original value.\n",
    "z = x + y \n",
    "\n",
    "print(z) ## z now equals 16"
   ]
  },
  {
   "cell_type": "markdown",
   "metadata": {},
   "source": [
    "Notice that if I add two integers, I get an integer."
   ]
  },
  {
   "cell_type": "code",
   "execution_count": 21,
   "metadata": {},
   "outputs": [
    {
     "data": {
      "text/plain": [
       "int"
      ]
     },
     "execution_count": 21,
     "metadata": {},
     "output_type": "execute_result"
    }
   ],
   "source": [
    "type(z)"
   ]
  },
  {
   "cell_type": "markdown",
   "metadata": {},
   "source": [
    "If I add an integer to a float, I get a float."
   ]
  },
  {
   "cell_type": "code",
   "execution_count": null,
   "metadata": {},
   "outputs": [],
   "source": [
    "t = 5.6\n",
    "\n",
    "g = x + t\n",
    "\n",
    "print(g)\n",
    "type(g)"
   ]
  },
  {
   "cell_type": "markdown",
   "metadata": {},
   "source": [
    "# Working with strings (text)\n",
    "\n",
    "Much like we did in Excel and OpenRefine, Python is great for wrangling text. And it's much more powerful than the tools we've used so far. Like we saw above, you use quote marks, either single or double quotes, to denote string values."
   ]
  },
  {
   "cell_type": "code",
   "execution_count": 28,
   "metadata": {},
   "outputs": [
    {
     "name": "stdout",
     "output_type": "stream",
     "text": [
      "Jaqueline P. Gillum\n"
     ]
    }
   ],
   "source": [
    "a = 'Jaqueline P. Gillum'\n",
    "print(a)"
   ]
  },
  {
   "cell_type": "code",
   "execution_count": 27,
   "metadata": {},
   "outputs": [
    {
     "name": "stdout",
     "output_type": "stream",
     "text": [
      "JAQUELINE P. GILLUM\n",
      "jaqueline p. gillum\n",
      "Jaqueline T. Gillum\n",
      "jaqueline t. gillum\n"
     ]
    }
   ],
   "source": [
    "# Strings have methods you can use to transform text.\n",
    "\n",
    "print(a.upper())\n",
    "print(a.lower())\n",
    "print(a.replace('P', 'T'))\n",
    "print(a.replace('P', 'T').lower())\n",
    "\n",
    "\n",
    "# List of string methods at https://www.w3schools.com/python/python_ref_string.asp"
   ]
  },
  {
   "cell_type": "code",
   "execution_count": 24,
   "metadata": {},
   "outputs": [
    {
     "name": "stdout",
     "output_type": "stream",
     "text": [
      "Jaqueline P. Gillum\n"
     ]
    }
   ],
   "source": [
    "# The methods do not alter the original string.\n",
    "print(a)"
   ]
  },
  {
   "cell_type": "code",
   "execution_count": 25,
   "metadata": {},
   "outputs": [
    {
     "name": "stdout",
     "output_type": "stream",
     "text": [
      "Phillip Hoffman\n",
      "Phillip Seymour Hoffman\n"
     ]
    }
   ],
   "source": [
    "# Concatenate strings.\n",
    "\n",
    "first_name = 'Phillip'\n",
    "middle_name = 'Seymour'\n",
    "last_name = 'Hoffman'\n",
    "\n",
    "print(first_name + ' ' + last_name)\n",
    "\n",
    "print(first_name + ' ' + middle_name + ' ' + last_name)"
   ]
  },
  {
   "cell_type": "markdown",
   "metadata": {},
   "source": [
    "Note: If you want to concatenate a number with a string, you must convert the number to a string! Like below."
   ]
  },
  {
   "cell_type": "code",
   "execution_count": null,
   "metadata": {},
   "outputs": [],
   "source": [
    "a = 5\n",
    "\n",
    "print('The number is ' + str(a))"
   ]
  },
  {
   "cell_type": "markdown",
   "metadata": {},
   "source": [
    "Or even better, use `string interpolation`, which is a built in Python method that allows you to insert varibales into text using brackets."
   ]
  },
  {
   "cell_type": "code",
   "execution_count": null,
   "metadata": {},
   "outputs": [],
   "source": [
    "# Python also lets you insert variables into strings via 'string interpolation'.\n",
    "\n",
    "print(f'I have {a} cats.')"
   ]
  },
  {
   "cell_type": "markdown",
   "metadata": {},
   "source": [
    "# Boolean operators: True, False, None, and, or\n",
    "    \n",
    "In Python, you can assign special values to variables to indicate a state of true or false as well as the absence of a value. When evaluating variables, you can test more than one condition at a time by using the operators `and` and `or`."
   ]
  },
  {
   "cell_type": "markdown",
   "metadata": {},
   "source": [
    "Just like in SQL, the concept of a null value is represented in Python using `None`. This is just like it sounds. It stands for no value. It does not represent `0`."
   ]
  },
  {
   "cell_type": "code",
   "execution_count": 36,
   "metadata": {},
   "outputs": [
    {
     "name": "stdout",
     "output_type": "stream",
     "text": [
      "None\n"
     ]
    }
   ],
   "source": [
    "animal = None\n",
    "\n",
    "print(animal)"
   ]
  },
  {
   "cell_type": "code",
   "execution_count": null,
   "metadata": {},
   "outputs": [],
   "source": [
    "## We use one equal sign to assign variables\n",
    "\n",
    "animal = 'cheetah'\n",
    "\n",
    "name = 'Chaz'\n",
    "\n",
    "## We use two equal signs to test their equality.\n",
    "\n",
    "animal == 'Elephant'\n",
    "\n"
   ]
  },
  {
   "cell_type": "code",
   "execution_count": null,
   "metadata": {},
   "outputs": [],
   "source": [
    "animal == 'cheetah'"
   ]
  },
  {
   "cell_type": "markdown",
   "metadata": {},
   "source": [
    "Also, like in SQL, we can use `and` and `or` to test whether multiple conditions are True, use the and operator. \n"
   ]
  },
  {
   "cell_type": "code",
   "execution_count": null,
   "metadata": {},
   "outputs": [],
   "source": [
    "animal == 'cheetah' and name == 'Chaz'"
   ]
  },
  {
   "cell_type": "markdown",
   "metadata": {},
   "source": [
    "What will the below return?"
   ]
  },
  {
   "cell_type": "code",
   "execution_count": null,
   "metadata": {},
   "outputs": [],
   "source": [
    "animal == 'cheetah' or animal == 'lion'"
   ]
  },
  {
   "cell_type": "markdown",
   "metadata": {},
   "source": [
    "We can also assign a value of True or False to a variable."
   ]
  },
  {
   "cell_type": "code",
   "execution_count": null,
   "metadata": {},
   "outputs": [],
   "source": [
    "is_open = False\n",
    "print(is_open)"
   ]
  },
  {
   "cell_type": "markdown",
   "metadata": {},
   "source": [
    "# First data structure: Lists\n",
    "\n",
    "Lists are what are known in python as a collection. They are ordered and can be changed. I like to think of them as containers. We will be using a list later on to store the individual records we scrape down from the FBI's FOIA Reading Room website.\n",
    "\n",
    "In python, text is stored in a datatype called a string. Strings are bytes that represent characters but for our purposes just think of them as ways to store words and letters.\n",
    "Numbers are stored in three data types: int, float and complex. \n",
    "\n",
    "We generally use integers (whole numbers) and floats (decimals). \n",
    "\n",
    "Later we will go over two other types of data structures: a dictionary and a tuple. But first, let's explore lists.\n",
    "\n",
    "Here we have a list with two string, or text, objects:"
   ]
  },
  {
   "cell_type": "code",
   "execution_count": 5,
   "metadata": {},
   "outputs": [],
   "source": [
    "list_of_strings = ['hello', 'world']"
   ]
  },
  {
   "cell_type": "markdown",
   "metadata": {},
   "source": [
    "Here we have a list of five python integers."
   ]
  },
  {
   "cell_type": "code",
   "execution_count": 32,
   "metadata": {},
   "outputs": [],
   "source": [
    "list_of_nums =  [1, 3, 5, 7, 11]"
   ]
  },
  {
   "cell_type": "markdown",
   "metadata": {},
   "source": [
    "Python can tell you what type you're working with. Below tells us this is a list."
   ]
  },
  {
   "cell_type": "code",
   "execution_count": 7,
   "metadata": {},
   "outputs": [
    {
     "data": {
      "text/plain": [
       "list"
      ]
     },
     "execution_count": 7,
     "metadata": {},
     "output_type": "execute_result"
    }
   ],
   "source": [
    "type(list_of_strings)"
   ]
  },
  {
   "cell_type": "code",
   "execution_count": 8,
   "metadata": {},
   "outputs": [
    {
     "data": {
      "text/plain": [
       "list"
      ]
     },
     "execution_count": 8,
     "metadata": {},
     "output_type": "execute_result"
    }
   ],
   "source": [
    "type(list_of_nums)"
   ]
  },
  {
   "cell_type": "markdown",
   "metadata": {},
   "source": [
    "Or how many objects are in our list."
   ]
  },
  {
   "cell_type": "code",
   "execution_count": 9,
   "metadata": {},
   "outputs": [
    {
     "data": {
      "text/plain": [
       "2"
      ]
     },
     "execution_count": 9,
     "metadata": {},
     "output_type": "execute_result"
    }
   ],
   "source": [
    "len(list_of_strings)"
   ]
  },
  {
   "cell_type": "code",
   "execution_count": 10,
   "metadata": {},
   "outputs": [
    {
     "data": {
      "text/plain": [
       "5"
      ]
     },
     "execution_count": 10,
     "metadata": {},
     "output_type": "execute_result"
    }
   ],
   "source": [
    "len(list_of_nums)"
   ]
  },
  {
   "cell_type": "markdown",
   "metadata": {},
   "source": [
    "Or tell you the type of object located in a certain position of your list. For instance, this tells us the type of the first item in your list of strings which is 'hello'"
   ]
  },
  {
   "cell_type": "code",
   "execution_count": 11,
   "metadata": {},
   "outputs": [
    {
     "data": {
      "text/plain": [
       "str"
      ]
     },
     "execution_count": 11,
     "metadata": {},
     "output_type": "execute_result"
    }
   ],
   "source": [
    "type(list_of_strings[0])"
   ]
  },
  {
   "cell_type": "markdown",
   "metadata": {},
   "source": [
    "This tells us the type of the second item in your list of numbers, which is 3"
   ]
  },
  {
   "cell_type": "code",
   "execution_count": 12,
   "metadata": {},
   "outputs": [
    {
     "data": {
      "text/plain": [
       "int"
      ]
     },
     "execution_count": 12,
     "metadata": {},
     "output_type": "execute_result"
    }
   ],
   "source": [
    "type(list_of_nums[1])"
   ]
  },
  {
   "cell_type": "markdown",
   "metadata": {},
   "source": [
    "Let's print the items in our list of strings."
   ]
  },
  {
   "cell_type": "code",
   "execution_count": 13,
   "metadata": {},
   "outputs": [
    {
     "name": "stdout",
     "output_type": "stream",
     "text": [
      "['hello', 'world']\n"
     ]
    }
   ],
   "source": [
    "print(list_of_strings)"
   ]
  },
  {
   "cell_type": "markdown",
   "metadata": {},
   "source": [
    "Now let's print the objects in our list of numbers."
   ]
  },
  {
   "cell_type": "code",
   "execution_count": 14,
   "metadata": {},
   "outputs": [
    {
     "name": "stdout",
     "output_type": "stream",
     "text": [
      "[1, 3, 5, 7, 11]\n"
     ]
    }
   ],
   "source": [
    "print(list_of_nums)"
   ]
  },
  {
   "cell_type": "markdown",
   "metadata": {},
   "source": [
    "And let's print just an item from each. In this case, the second object in our list of strings and the fifth item in our list of numbers. Below we're using what's called a list index to locate the specific item we want out of the list. Note: Python counts from zero, so the first item has an index of `[0]`."
   ]
  },
  {
   "cell_type": "code",
   "execution_count": 16,
   "metadata": {},
   "outputs": [
    {
     "name": "stdout",
     "output_type": "stream",
     "text": [
      "world\n"
     ]
    }
   ],
   "source": [
    "print(list_of_strings[1])"
   ]
  },
  {
   "cell_type": "code",
   "execution_count": 17,
   "metadata": {},
   "outputs": [
    {
     "name": "stdout",
     "output_type": "stream",
     "text": [
      "11\n"
     ]
    }
   ],
   "source": [
    "print(list_of_nums[4])"
   ]
  },
  {
   "cell_type": "code",
   "execution_count": null,
   "metadata": {},
   "outputs": [],
   "source": [
    "We can use indexes to slice out portions of our list, like below."
   ]
  },
  {
   "cell_type": "code",
   "execution_count": null,
   "metadata": {},
   "outputs": [],
   "source": [
    "print(list_of_nums[0:2])"
   ]
  },
  {
   "cell_type": "markdown",
   "metadata": {},
   "source": [
    "Notice above works from the left to right. We can also get the last value by starting from the right."
   ]
  },
  {
   "cell_type": "code",
   "execution_count": null,
   "metadata": {},
   "outputs": [],
   "source": [
    "print(list_of_nums[-1])"
   ]
  },
  {
   "cell_type": "markdown",
   "metadata": {},
   "source": [
    "We can sort our list."
   ]
  },
  {
   "cell_type": "code",
   "execution_count": 33,
   "metadata": {},
   "outputs": [
    {
     "name": "stdout",
     "output_type": "stream",
     "text": [
      "[1, 3, 5, 7, 11]\n",
      "[11, 7, 5, 3, 1]\n"
     ]
    }
   ],
   "source": [
    "# Sort the list.\n",
    "\n",
    "list_of_nums.sort() ## ascending\n",
    "\n",
    "print(list_of_nums)\n",
    "\n",
    "list_of_nums.sort(reverse = True)\n",
    "\n",
    "print(list_of_nums)\n"
   ]
  },
  {
   "cell_type": "markdown",
   "metadata": {},
   "source": [
    "Add and remove values."
   ]
  },
  {
   "cell_type": "code",
   "execution_count": null,
   "metadata": {},
   "outputs": [],
   "source": [
    "list_of_nums.append(13)\n",
    "list_of_strings.remove('hello')\n",
    "print(list_of_strings)\n",
    "print(list_of_nums)"
   ]
  },
  {
   "cell_type": "markdown",
   "metadata": {},
   "source": [
    "Another great method for cleaning of text data. We can use `split()` to break up a string into a list."
   ]
  },
  {
   "cell_type": "code",
   "execution_count": 35,
   "metadata": {},
   "outputs": [
    {
     "name": "stdout",
     "output_type": "stream",
     "text": [
      "['How', 'many', 'ice', 'cream', 'scoops', 'can', 'I', 'get', 'for', 'a', 'dollar?']\n"
     ]
    }
   ],
   "source": [
    "b = 'How many ice cream scoops can I get for a dollar?'\n",
    "print(b.split())"
   ]
  },
  {
   "cell_type": "markdown",
   "metadata": {},
   "source": [
    "## Loops (a type of control flow)\n",
    "\n",
    "In Python and most programming languages, we use loops. Loops are a construct of programming that allows us repeat a series of commands and apply them to every object in a grouping, or in this case, a list. "
   ]
  },
  {
   "cell_type": "code",
   "execution_count": 18,
   "metadata": {},
   "outputs": [
    {
     "name": "stdout",
     "output_type": "stream",
     "text": [
      "hello\n",
      "world\n"
     ]
    }
   ],
   "source": [
    "for i in list_of_strings: # Read: For each item in my list do the following\n",
    "    print(i) # Print, or display, the item"
   ]
  },
  {
   "cell_type": "markdown",
   "metadata": {},
   "source": [
    "Now try the same for our list of numbers."
   ]
  },
  {
   "cell_type": "code",
   "execution_count": 19,
   "metadata": {},
   "outputs": [
    {
     "name": "stdout",
     "output_type": "stream",
     "text": [
      "1\n",
      "3\n",
      "5\n",
      "7\n",
      "11\n"
     ]
    }
   ],
   "source": [
    "for n in list_of_nums: \n",
    "    print(n)"
   ]
  },
  {
   "cell_type": "markdown",
   "metadata": {},
   "source": [
    "For loops are very powerful and can be as simple or as complex as you make them."
   ]
  },
  {
   "cell_type": "code",
   "execution_count": 50,
   "metadata": {},
   "outputs": [
    {
     "name": "stdout",
     "output_type": "stream",
     "text": [
      "11\n",
      "13\n",
      "15\n",
      "17\n",
      "21\n",
      "[1, 3, 5, 7, 11]\n"
     ]
    }
   ],
   "source": [
    "\n",
    "list_of_nums = [1, 3, 5, 7, 11]\n",
    "\n",
    "\n",
    "for n in list_of_nums:\n",
    "    thing = n + 10\n",
    "    print(thing)\n",
    "\n",
    "print(list_of_nums)"
   ]
  },
  {
   "cell_type": "markdown",
   "metadata": {},
   "source": [
    "## Printing specific ways\n",
    "\n",
    "Talk about .join()"
   ]
  },
  {
   "cell_type": "markdown",
   "metadata": {},
   "source": [
    "Join allows us to print in specific ways. For example, let's print each item of our list of strings on a new line."
   ]
  },
  {
   "cell_type": "code",
   "execution_count": 21,
   "metadata": {},
   "outputs": [
    {
     "name": "stdout",
     "output_type": "stream",
     "text": [
      "hello\n",
      "world\n"
     ]
    }
   ],
   "source": [
    "print('\\n'.join(list_of_strings))"
   ]
  },
  {
   "cell_type": "markdown",
   "metadata": {},
   "source": [
    "Now we're ready to starting working with csvs.\n",
    "\n",
    "## Reading and writing csvs\n",
    "\n",
    "Remember our import statements. Let's import the built-in csv module."
   ]
  },
  {
   "cell_type": "code",
   "execution_count": 28,
   "metadata": {},
   "outputs": [],
   "source": [
    "import csv"
   ]
  },
  {
   "cell_type": "markdown",
   "metadata": {},
   "source": [
    "When working with csvs in Python, we first need to read in the data from the csv. You do this by using the csvreader. For this exercise, we'll be using the county_pops.csv we used last week that includes population data for Maryland counties from the U.S. Census Bureau."
   ]
  },
  {
   "cell_type": "markdown",
   "metadata": {},
   "source": [
    "First for ease of use in this exercise, we'll import a module called ```os``` and create a variable called work_dir with our current working directory. It will make it easier for us to have a variable assigned to the working directoy path for now rathre than having to type it in every time."
   ]
  },
  {
   "cell_type": "code",
   "execution_count": 29,
   "metadata": {},
   "outputs": [],
   "source": [
    "import os"
   ]
  },
  {
   "cell_type": "code",
   "execution_count": 30,
   "metadata": {},
   "outputs": [],
   "source": [
    "work_dir = os.getcwd()"
   ]
  },
  {
   "cell_type": "code",
   "execution_count": null,
   "metadata": {},
   "outputs": [],
   "source": [
    "print(work_dir)"
   ]
  },
  {
   "cell_type": "markdown",
   "metadata": {},
   "source": [
    "Now let's use the work_dir as we read in our county pops csv like below."
   ]
  },
  {
   "cell_type": "code",
   "execution_count": 34,
   "metadata": {},
   "outputs": [],
   "source": [
    "csvreader = csv.reader(open(work_dir+'/county_pops.csv'), delimiter=',', quotechar='\"')"
   ]
  },
  {
   "cell_type": "markdown",
   "metadata": {},
   "source": [
    "Now we have a Python object named csvreader that contains the data from our county_pops.csv. Next, let's take a look at what's inside. We'll use a loop like we discussed before to do this."
   ]
  },
  {
   "cell_type": "code",
   "execution_count": 36,
   "metadata": {},
   "outputs": [
    {
     "name": "stdout",
     "output_type": "stream",
     "text": [
      "GEO.id, GEO.id2, GEO.display-label, D001\n",
      "0500000US24001, 24001, Allegany County, Maryland, 75087\n",
      "0500000US24003, 24003, Anne Arundel County, Maryland, 537656\n",
      "0500000US24005, 24005, Baltimore County, Maryland, 805029\n",
      "0500000US24009, 24009, Calvert County, Maryland, 88737\n",
      "0500000US24011, 24011, Caroline County, Maryland, 33066\n",
      "0500000US24013, 24013, Carroll County, Maryland, 167134\n",
      "0500000US24015, 24015, Cecil County, Maryland, 101108\n",
      "0500000US24017, 24017, Charles County, Maryland, 146551\n",
      "0500000US24019, 24019, Dorchester County, Maryland, 32618\n",
      "0500000US24021, 24021, Frederick County, Maryland, 233385\n",
      "0500000US24023, 24023, Garrett County, Maryland, 30097\n",
      "0500000US24025, 24025, Harford County, Maryland, 244826\n",
      "0500000US24027, 24027, Howard County, Maryland, 287085\n",
      "0500000US24029, 24029, Kent County, Maryland, 20197\n",
      "0500000US24031, 24031, Montgomery County, Maryland, 971777\n",
      "0500000US24033, 24033, Prince George's County, Maryland, 863420\n",
      "0500000US24035, 24035, Queen Anne's County, Maryland, 47798\n",
      "0500000US24037, 24037, St. Mary's County, Maryland, 105151\n",
      "0500000US24039, 24039, Somerset County, Maryland, 26470\n",
      "0500000US24041, 24041, Talbot County, Maryland, 37782\n",
      "0500000US24043, 24043, Washington County, Maryland, 147430\n",
      "0500000US24045, 24045, Wicomico County, Maryland, 98733\n",
      "0500000US24047, 24047, Worcester County, Maryland, 51454\n",
      "0500000US24510, 24510, Baltimore city, Maryland, 620961\n"
     ]
    }
   ],
   "source": [
    "for row in csvreader:\n",
    "    print(', '.join(row))"
   ]
  },
  {
   "cell_type": "markdown",
   "metadata": {},
   "source": [
    "Now let's make that data into a list"
   ]
  },
  {
   "cell_type": "code",
   "execution_count": 42,
   "metadata": {},
   "outputs": [
    {
     "name": "stdout",
     "output_type": "stream",
     "text": [
      "[['GEO.id', 'GEO.id2', 'GEO.display-label', 'D001'], ['0500000US24001', '24001', 'Allegany County, Maryland', '75087'], ['0500000US24003', '24003', 'Anne Arundel County, Maryland', '537656'], ['0500000US24005', '24005', 'Baltimore County, Maryland', '805029'], ['0500000US24009', '24009', 'Calvert County, Maryland', '88737'], ['0500000US24011', '24011', 'Caroline County, Maryland', '33066'], ['0500000US24013', '24013', 'Carroll County, Maryland', '167134'], ['0500000US24015', '24015', 'Cecil County, Maryland', '101108'], ['0500000US24017', '24017', 'Charles County, Maryland', '146551'], ['0500000US24019', '24019', 'Dorchester County, Maryland', '32618'], ['0500000US24021', '24021', 'Frederick County, Maryland', '233385'], ['0500000US24023', '24023', 'Garrett County, Maryland', '30097'], ['0500000US24025', '24025', 'Harford County, Maryland', '244826'], ['0500000US24027', '24027', 'Howard County, Maryland', '287085'], ['0500000US24029', '24029', 'Kent County, Maryland', '20197'], ['0500000US24031', '24031', 'Montgomery County, Maryland', '971777'], ['0500000US24033', '24033', \"Prince George's County, Maryland\", '863420'], ['0500000US24035', '24035', \"Queen Anne's County, Maryland\", '47798'], ['0500000US24037', '24037', \"St. Mary's County, Maryland\", '105151'], ['0500000US24039', '24039', 'Somerset County, Maryland', '26470'], ['0500000US24041', '24041', 'Talbot County, Maryland', '37782'], ['0500000US24043', '24043', 'Washington County, Maryland', '147430'], ['0500000US24045', '24045', 'Wicomico County, Maryland', '98733'], ['0500000US24047', '24047', 'Worcester County, Maryland', '51454'], ['0500000US24510', '24510', 'Baltimore city, Maryland', '620961']]\n"
     ]
    }
   ],
   "source": [
    "csvreader = csv.reader(open(work_dir+'/county_pops.csv'), delimiter=',', quotechar='\"')\n",
    "things = list(csvreader)\n",
    "\n",
    "print(things)"
   ]
  },
  {
   "cell_type": "markdown",
   "metadata": {},
   "source": [
    "And let's cut out a line or two"
   ]
  },
  {
   "cell_type": "code",
   "execution_count": 44,
   "metadata": {},
   "outputs": [
    {
     "name": "stdout",
     "output_type": "stream",
     "text": [
      "[['GEO.id', 'GEO.id2', 'GEO.display-label', 'D001'], ['0500000US24001', '24001', 'Allegany County, Maryland', '75087'], ['0500000US24003', '24003', 'Anne Arundel County, Maryland', '537656'], ['0500000US24005', '24005', 'Baltimore County, Maryland', '805029'], ['0500000US24009', '24009', 'Calvert County, Maryland', '88737']]\n"
     ]
    }
   ],
   "source": [
    "csv_things=things[0:5]\n",
    "\n",
    "print(csv_things)"
   ]
  },
  {
   "cell_type": "markdown",
   "metadata": {},
   "source": [
    "Let's make a state column by splitting apart one of the values in each row. How would we go about that?"
   ]
  },
  {
   "cell_type": "code",
   "execution_count": 44,
   "metadata": {},
   "outputs": [],
   "source": [
    "test_list = [['GEO.id', 'GEO.id2', 'GEO.display-label', 'D001'], ['0500000US24001', '24001', 'Allegany County, Maryland', '75087'], ['0500000US24003', '24003', 'Anne Arundel County, Maryland', '537656'], ['0500000US24005', '24005', 'Baltimore County, Maryland', '805029'], ['0500000US24009', '24009', 'Calvert County, Maryland', '88737']]"
   ]
  },
  {
   "cell_type": "code",
   "execution_count": 45,
   "metadata": {},
   "outputs": [
    {
     "name": "stdout",
     "output_type": "stream",
     "text": [
      "[['GEO.id', 'GEO.id2', 'GEO.display-label', 'D001'], ['0500000US24001', '24001', 'Allegany County, Maryland', '75087', ' Maryland'], ['0500000US24003', '24003', 'Anne Arundel County, Maryland', '537656', ' Maryland'], ['0500000US24005', '24005', 'Baltimore County, Maryland', '805029', ' Maryland'], ['0500000US24009', '24009', 'Calvert County, Maryland', '88737', ' Maryland']]\n"
     ]
    }
   ],
   "source": [
    "for t in test_list[1:]:\n",
    "    city_state = t[2]\n",
    "    # print(city_state.split(',')[1])\n",
    "    state = city_state.split(',')[1]\n",
    "    t.append(state)\n",
    "    \n",
    "print(test_list)"
   ]
  },
  {
   "cell_type": "markdown",
   "metadata": {},
   "source": [
    "What did we forget?"
   ]
  },
  {
   "cell_type": "code",
   "execution_count": 46,
   "metadata": {},
   "outputs": [],
   "source": [
    "test_list[0].append('state')"
   ]
  },
  {
   "cell_type": "code",
   "execution_count": 47,
   "metadata": {},
   "outputs": [
    {
     "name": "stdout",
     "output_type": "stream",
     "text": [
      "[['GEO.id', 'GEO.id2', 'GEO.display-label', 'D001', 'state'], ['0500000US24001', '24001', 'Allegany County, Maryland', '75087', ' Maryland'], ['0500000US24003', '24003', 'Anne Arundel County, Maryland', '537656', ' Maryland'], ['0500000US24005', '24005', 'Baltimore County, Maryland', '805029', ' Maryland'], ['0500000US24009', '24009', 'Calvert County, Maryland', '88737', ' Maryland']]\n"
     ]
    }
   ],
   "source": [
    "print(test_list)"
   ]
  },
  {
   "cell_type": "markdown",
   "metadata": {},
   "source": [
    "Now, let's try it with the whole list of lists from our csv."
   ]
  },
  {
   "cell_type": "code",
   "execution_count": null,
   "metadata": {},
   "outputs": [],
   "source": []
  },
  {
   "cell_type": "markdown",
   "metadata": {},
   "source": [
    "## Writing to a csv\n",
    "\n",
    "Now let's take the smaller subset of data we've cut off and named csv_things and write that to another csv"
   ]
  },
  {
   "cell_type": "code",
   "execution_count": 51,
   "metadata": {},
   "outputs": [],
   "source": [
    "with open(work_dir+\"/new_pops.csv\", \"w\") as outfile: \n",
    "    writer = csv.writer(outfile, quotechar='\"')\n",
    "    for csv_row in csv_things:\n",
    "        writer.writerow(csv_row)"
   ]
  },
  {
   "cell_type": "markdown",
   "metadata": {},
   "source": [
    "Alright, now you've mastered reading and writing csv files. "
   ]
  },
  {
   "cell_type": "code",
   "execution_count": null,
   "metadata": {},
   "outputs": [],
   "source": []
  }
 ],
 "metadata": {
  "kernelspec": {
   "display_name": "Python 3",
   "language": "python",
   "name": "python3"
  },
  "language_info": {
   "codemirror_mode": {
    "name": "ipython",
    "version": 3
   },
   "file_extension": ".py",
   "mimetype": "text/x-python",
   "name": "python",
   "nbconvert_exporter": "python",
   "pygments_lexer": "ipython3",
   "version": "3.6.8"
  }
 },
 "nbformat": 4,
 "nbformat_minor": 2
}
