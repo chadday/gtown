{
 "cells": [
  {
   "cell_type": "markdown",
   "metadata": {},
   "source": [
    "# Introduction to Python and Basic Web Scraping\n",
    "\n",
    "## Basic maneuvering: Import statements\n",
    "\n",
    "To use a Python library in a script, we have to import it. You do that using what are known as import statements. Below we'll import the csv module, which lets us read and write csvs"
   ]
  },
  {
   "cell_type": "code",
   "execution_count": 2,
   "metadata": {},
   "outputs": [],
   "source": [
    "import csv"
   ]
  },
  {
   "cell_type": "markdown",
   "metadata": {},
   "source": [
    "Now we'll import the BeautifulSoup module"
   ]
  },
  {
   "cell_type": "code",
   "execution_count": 3,
   "metadata": {},
   "outputs": [],
   "source": [
    "from bs4 import BeautifulSoup"
   ]
  },
  {
   "cell_type": "markdown",
   "metadata": {},
   "source": [
    "And we'll import the requests module"
   ]
  },
  {
   "cell_type": "code",
   "execution_count": 4,
   "metadata": {},
   "outputs": [],
   "source": [
    "import requests"
   ]
  },
  {
   "cell_type": "markdown",
   "metadata": {},
   "source": [
    "## Introduction to lists\n",
    "\n",
    "Lists are what are known in python as a collection. They are ordered and can be changed. I like to think of them as containers. We will be using a list later on to store the individual records we scrape down from the FBI's FOIA Reading Room website.\n",
    "\n",
    "In python, text is stored in a datatype called a string. Strings are bytes that represent characters but for our purposes just think of them as ways to store words and letters.\n",
    "Numbers are stored in three data types: int, float and complex. \n",
    "\n",
    "We generally use integers (whole numbers) and floats (decimals).\n",
    "\n",
    "Here we have a list with two string, or text, objects:"
   ]
  },
  {
   "cell_type": "code",
   "execution_count": 5,
   "metadata": {},
   "outputs": [],
   "source": [
    "list_of_strings = ['hello', 'world']"
   ]
  },
  {
   "cell_type": "markdown",
   "metadata": {},
   "source": [
    "Here we have a list of five python integers."
   ]
  },
  {
   "cell_type": "code",
   "execution_count": 6,
   "metadata": {},
   "outputs": [],
   "source": [
    "list_of_nums =  [1, 3, 5, 7, 11]"
   ]
  },
  {
   "cell_type": "markdown",
   "metadata": {},
   "source": [
    "Python can tell you what type you're working with. Below tells us this is a list."
   ]
  },
  {
   "cell_type": "code",
   "execution_count": 7,
   "metadata": {},
   "outputs": [
    {
     "data": {
      "text/plain": [
       "list"
      ]
     },
     "execution_count": 7,
     "metadata": {},
     "output_type": "execute_result"
    }
   ],
   "source": [
    "type(list_of_strings)"
   ]
  },
  {
   "cell_type": "code",
   "execution_count": 8,
   "metadata": {},
   "outputs": [
    {
     "data": {
      "text/plain": [
       "list"
      ]
     },
     "execution_count": 8,
     "metadata": {},
     "output_type": "execute_result"
    }
   ],
   "source": [
    "type(list_of_nums)"
   ]
  },
  {
   "cell_type": "markdown",
   "metadata": {},
   "source": [
    "Or how many objects are in our list."
   ]
  },
  {
   "cell_type": "code",
   "execution_count": 9,
   "metadata": {},
   "outputs": [
    {
     "data": {
      "text/plain": [
       "2"
      ]
     },
     "execution_count": 9,
     "metadata": {},
     "output_type": "execute_result"
    }
   ],
   "source": [
    "len(list_of_strings)"
   ]
  },
  {
   "cell_type": "code",
   "execution_count": 10,
   "metadata": {},
   "outputs": [
    {
     "data": {
      "text/plain": [
       "5"
      ]
     },
     "execution_count": 10,
     "metadata": {},
     "output_type": "execute_result"
    }
   ],
   "source": [
    "len(list_of_nums)"
   ]
  },
  {
   "cell_type": "markdown",
   "metadata": {},
   "source": [
    "Or tell you the type of object located in a certain position of your list. For instance, this tells us the type of the first item in your list of strings which is 'hello'"
   ]
  },
  {
   "cell_type": "code",
   "execution_count": 11,
   "metadata": {},
   "outputs": [
    {
     "data": {
      "text/plain": [
       "str"
      ]
     },
     "execution_count": 11,
     "metadata": {},
     "output_type": "execute_result"
    }
   ],
   "source": [
    "type(list_of_strings[0])"
   ]
  },
  {
   "cell_type": "markdown",
   "metadata": {},
   "source": [
    "This tells us the type of the second item in your list of numbers, which is 3"
   ]
  },
  {
   "cell_type": "code",
   "execution_count": 12,
   "metadata": {},
   "outputs": [
    {
     "data": {
      "text/plain": [
       "int"
      ]
     },
     "execution_count": 12,
     "metadata": {},
     "output_type": "execute_result"
    }
   ],
   "source": [
    "type(list_of_nums[1])"
   ]
  },
  {
   "cell_type": "markdown",
   "metadata": {},
   "source": [
    "## Printing\n",
    "\n",
    "Sometimes we want the python console to display things in the console. For example, the contents of our lists or a specific item in the list. We use print() to do this. Note: In Python2.7, you don't use the (). It's just print. \n",
    "\n",
    "Let's print the items in our list of strings."
   ]
  },
  {
   "cell_type": "code",
   "execution_count": 13,
   "metadata": {},
   "outputs": [
    {
     "name": "stdout",
     "output_type": "stream",
     "text": [
      "['hello', 'world']\n"
     ]
    }
   ],
   "source": [
    "print(list_of_strings)"
   ]
  },
  {
   "cell_type": "markdown",
   "metadata": {},
   "source": [
    "Now let's print the objects in our list of numbers."
   ]
  },
  {
   "cell_type": "code",
   "execution_count": 14,
   "metadata": {},
   "outputs": [
    {
     "name": "stdout",
     "output_type": "stream",
     "text": [
      "[1, 3, 5, 7, 11]\n"
     ]
    }
   ],
   "source": [
    "print(list_of_nums)"
   ]
  },
  {
   "cell_type": "markdown",
   "metadata": {},
   "source": [
    "And let's print just an item from each. In this case, the second object in our list of strings and the fifth item in our list of numbers."
   ]
  },
  {
   "cell_type": "code",
   "execution_count": 16,
   "metadata": {},
   "outputs": [
    {
     "name": "stdout",
     "output_type": "stream",
     "text": [
      "world\n"
     ]
    }
   ],
   "source": [
    "print(list_of_strings[1])"
   ]
  },
  {
   "cell_type": "code",
   "execution_count": 17,
   "metadata": {},
   "outputs": [
    {
     "name": "stdout",
     "output_type": "stream",
     "text": [
      "11\n"
     ]
    }
   ],
   "source": [
    "print(list_of_nums[4])"
   ]
  },
  {
   "cell_type": "markdown",
   "metadata": {},
   "source": [
    "## Looping and printing\n",
    "\n",
    "In Python and most programming languages, we use loops. Loops are a construct of programming that allows us repeat a series of commands and apply them to every object in a grouping, or in this case, a list. "
   ]
  },
  {
   "cell_type": "code",
   "execution_count": 18,
   "metadata": {},
   "outputs": [
    {
     "name": "stdout",
     "output_type": "stream",
     "text": [
      "hello\n",
      "world\n"
     ]
    }
   ],
   "source": [
    "for i in list_of_strings: # Read: For each item in my list do the following\n",
    "    print(i) # Print, or display, the item"
   ]
  },
  {
   "cell_type": "markdown",
   "metadata": {},
   "source": [
    "Now try the same for our list of numbers."
   ]
  },
  {
   "cell_type": "code",
   "execution_count": 19,
   "metadata": {},
   "outputs": [
    {
     "name": "stdout",
     "output_type": "stream",
     "text": [
      "1\n",
      "3\n",
      "5\n",
      "7\n",
      "11\n"
     ]
    }
   ],
   "source": [
    "for n in list_of_nums: \n",
    "    print(n)"
   ]
  },
  {
   "cell_type": "markdown",
   "metadata": {},
   "source": [
    "## Printing specific ways\n",
    "\n",
    "Talk about .join()"
   ]
  },
  {
   "cell_type": "markdown",
   "metadata": {},
   "source": [
    "Join allows us to print in specific ways. For example, let's print each item of our list of strings on a new line."
   ]
  },
  {
   "cell_type": "code",
   "execution_count": 21,
   "metadata": {},
   "outputs": [
    {
     "name": "stdout",
     "output_type": "stream",
     "text": [
      "hello\n",
      "world\n"
     ]
    }
   ],
   "source": [
    "print('\\n'.join(list_of_strings))"
   ]
  },
  {
   "cell_type": "markdown",
   "metadata": {},
   "source": [
    "Now we're ready to starting working with csvs.\n",
    "\n",
    "## Reading and writing csvs\n",
    "\n",
    "Remember our import statements. Let's import the built-in csv module."
   ]
  },
  {
   "cell_type": "code",
   "execution_count": 28,
   "metadata": {},
   "outputs": [],
   "source": [
    "import csv"
   ]
  },
  {
   "cell_type": "markdown",
   "metadata": {},
   "source": [
    "When working with csvs in Python, we first need to read in the data from the csv. You do this by using the csvreader. For this exercise, we'll be using the county_pops.csv we used last week that includes population data for Maryland counties from the U.S. Census Bureau."
   ]
  },
  {
   "cell_type": "markdown",
   "metadata": {},
   "source": [
    "First for ease of use in this exercise, we'll import a module called ```os``` and create a variable called work_dir with our current working directory. It will make it easier for us to have a variable assigned to the working directoy path for now rathre than having to type it in every time."
   ]
  },
  {
   "cell_type": "code",
   "execution_count": 29,
   "metadata": {},
   "outputs": [],
   "source": [
    "import os"
   ]
  },
  {
   "cell_type": "code",
   "execution_count": 30,
   "metadata": {},
   "outputs": [],
   "source": [
    "work_dir = os.getcwd()"
   ]
  },
  {
   "cell_type": "code",
   "execution_count": null,
   "metadata": {},
   "outputs": [],
   "source": [
    "print(work_dir)"
   ]
  },
  {
   "cell_type": "markdown",
   "metadata": {},
   "source": [
    "Now let's use the work_dir as we read in our county pops csv like below."
   ]
  },
  {
   "cell_type": "code",
   "execution_count": 34,
   "metadata": {},
   "outputs": [],
   "source": [
    "csvreader = csv.reader(open(work_dir+'/county_pops.csv'), delimiter=',', quotechar='\"')"
   ]
  },
  {
   "cell_type": "markdown",
   "metadata": {},
   "source": [
    "Now we have a Python object named csvreader that contains the data from our county_pops.csv. Next, let's take a look at what's inside. We'll use a loop like we discussed before to do this."
   ]
  },
  {
   "cell_type": "code",
   "execution_count": 36,
   "metadata": {},
   "outputs": [
    {
     "name": "stdout",
     "output_type": "stream",
     "text": [
      "GEO.id, GEO.id2, GEO.display-label, D001\n",
      "0500000US24001, 24001, Allegany County, Maryland, 75087\n",
      "0500000US24003, 24003, Anne Arundel County, Maryland, 537656\n",
      "0500000US24005, 24005, Baltimore County, Maryland, 805029\n",
      "0500000US24009, 24009, Calvert County, Maryland, 88737\n",
      "0500000US24011, 24011, Caroline County, Maryland, 33066\n",
      "0500000US24013, 24013, Carroll County, Maryland, 167134\n",
      "0500000US24015, 24015, Cecil County, Maryland, 101108\n",
      "0500000US24017, 24017, Charles County, Maryland, 146551\n",
      "0500000US24019, 24019, Dorchester County, Maryland, 32618\n",
      "0500000US24021, 24021, Frederick County, Maryland, 233385\n",
      "0500000US24023, 24023, Garrett County, Maryland, 30097\n",
      "0500000US24025, 24025, Harford County, Maryland, 244826\n",
      "0500000US24027, 24027, Howard County, Maryland, 287085\n",
      "0500000US24029, 24029, Kent County, Maryland, 20197\n",
      "0500000US24031, 24031, Montgomery County, Maryland, 971777\n",
      "0500000US24033, 24033, Prince George's County, Maryland, 863420\n",
      "0500000US24035, 24035, Queen Anne's County, Maryland, 47798\n",
      "0500000US24037, 24037, St. Mary's County, Maryland, 105151\n",
      "0500000US24039, 24039, Somerset County, Maryland, 26470\n",
      "0500000US24041, 24041, Talbot County, Maryland, 37782\n",
      "0500000US24043, 24043, Washington County, Maryland, 147430\n",
      "0500000US24045, 24045, Wicomico County, Maryland, 98733\n",
      "0500000US24047, 24047, Worcester County, Maryland, 51454\n",
      "0500000US24510, 24510, Baltimore city, Maryland, 620961\n"
     ]
    }
   ],
   "source": [
    "for row in csvreader:\n",
    "    print(', '.join(row))"
   ]
  },
  {
   "cell_type": "markdown",
   "metadata": {},
   "source": [
    "Now let's make that data into a list"
   ]
  },
  {
   "cell_type": "code",
   "execution_count": 42,
   "metadata": {},
   "outputs": [
    {
     "name": "stdout",
     "output_type": "stream",
     "text": [
      "[['GEO.id', 'GEO.id2', 'GEO.display-label', 'D001'], ['0500000US24001', '24001', 'Allegany County, Maryland', '75087'], ['0500000US24003', '24003', 'Anne Arundel County, Maryland', '537656'], ['0500000US24005', '24005', 'Baltimore County, Maryland', '805029'], ['0500000US24009', '24009', 'Calvert County, Maryland', '88737'], ['0500000US24011', '24011', 'Caroline County, Maryland', '33066'], ['0500000US24013', '24013', 'Carroll County, Maryland', '167134'], ['0500000US24015', '24015', 'Cecil County, Maryland', '101108'], ['0500000US24017', '24017', 'Charles County, Maryland', '146551'], ['0500000US24019', '24019', 'Dorchester County, Maryland', '32618'], ['0500000US24021', '24021', 'Frederick County, Maryland', '233385'], ['0500000US24023', '24023', 'Garrett County, Maryland', '30097'], ['0500000US24025', '24025', 'Harford County, Maryland', '244826'], ['0500000US24027', '24027', 'Howard County, Maryland', '287085'], ['0500000US24029', '24029', 'Kent County, Maryland', '20197'], ['0500000US24031', '24031', 'Montgomery County, Maryland', '971777'], ['0500000US24033', '24033', \"Prince George's County, Maryland\", '863420'], ['0500000US24035', '24035', \"Queen Anne's County, Maryland\", '47798'], ['0500000US24037', '24037', \"St. Mary's County, Maryland\", '105151'], ['0500000US24039', '24039', 'Somerset County, Maryland', '26470'], ['0500000US24041', '24041', 'Talbot County, Maryland', '37782'], ['0500000US24043', '24043', 'Washington County, Maryland', '147430'], ['0500000US24045', '24045', 'Wicomico County, Maryland', '98733'], ['0500000US24047', '24047', 'Worcester County, Maryland', '51454'], ['0500000US24510', '24510', 'Baltimore city, Maryland', '620961']]\n"
     ]
    }
   ],
   "source": [
    "csvreader = csv.reader(open(work_dir+'/county_pops.csv'), delimiter=',', quotechar='\"')\n",
    "things = list(csvreader)\n",
    "\n",
    "print(things)"
   ]
  },
  {
   "cell_type": "markdown",
   "metadata": {},
   "source": [
    "And let's cut out a line or two"
   ]
  },
  {
   "cell_type": "code",
   "execution_count": 44,
   "metadata": {},
   "outputs": [
    {
     "name": "stdout",
     "output_type": "stream",
     "text": [
      "[['GEO.id', 'GEO.id2', 'GEO.display-label', 'D001'], ['0500000US24001', '24001', 'Allegany County, Maryland', '75087'], ['0500000US24003', '24003', 'Anne Arundel County, Maryland', '537656'], ['0500000US24005', '24005', 'Baltimore County, Maryland', '805029'], ['0500000US24009', '24009', 'Calvert County, Maryland', '88737']]\n"
     ]
    }
   ],
   "source": [
    "csv_things=things[0:5]\n",
    "\n",
    "print(csv_things)"
   ]
  },
  {
   "cell_type": "markdown",
   "metadata": {},
   "source": [
    "## Writing to a csv\n",
    "\n",
    "Now let's take the smaller subset of data we've cut off and named csv_things and write that to another csv"
   ]
  },
  {
   "cell_type": "code",
   "execution_count": 51,
   "metadata": {},
   "outputs": [],
   "source": [
    "with open(work_dir+\"/new_pops.csv\", \"w\") as outfile: ## in Python2.7 use \"wb\"\n",
    "    writer = csv.writer(outfile, quotechar='\"')\n",
    "    for csv_row in csv_things:\n",
    "        writer.writerow(csv_row)"
   ]
  },
  {
   "cell_type": "markdown",
   "metadata": {},
   "source": [
    "Alright, now that you've mastered reading and writing csv files. Let's turn to our scraper."
   ]
  }
 ],
 "metadata": {
  "kernelspec": {
   "display_name": "Python 3",
   "language": "python",
   "name": "python3"
  },
  "language_info": {
   "codemirror_mode": {
    "name": "ipython",
    "version": 3
   },
   "file_extension": ".py",
   "mimetype": "text/x-python",
   "name": "python",
   "nbconvert_exporter": "python",
   "pygments_lexer": "ipython3",
   "version": "3.6.8"
  }
 },
 "nbformat": 4,
 "nbformat_minor": 2
}
